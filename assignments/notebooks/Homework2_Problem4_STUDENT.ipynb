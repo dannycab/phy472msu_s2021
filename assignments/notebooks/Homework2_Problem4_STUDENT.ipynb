{
 "cells": [
  {
   "cell_type": "markdown",
   "metadata": {},
   "source": [
    "# Solving the Eigenvalue Problem in Quantum Mechanics\n",
    "\n",
    "We begin by importing `numpy` and the linear algebra library (`linalg`) that will make certain calculations easier. The design of this notebook is such that you are shown how to do a certain kind of calculation and then must do the same kind of calculation for the problem you are working."
   ]
  },
  {
   "cell_type": "code",
   "execution_count": 1,
   "metadata": {},
   "outputs": [],
   "source": [
    "import numpy as np\n",
    "import numpy.linalg as la\n",
    "import math"
   ]
  },
  {
   "cell_type": "markdown",
   "metadata": {},
   "source": [
    "## 1. Finding Eigenvalues and Eigenvectors of Spin Operators\n",
    "\n",
    "To get started, we will simply familiarize ourselves with what `linalg` can do with matrices that we have used many times. In this section, you will learn how to:\n",
    "* compute the complex conjugate of a matrix\n",
    "* compute the adjoint of a matrix (complex conjugate transpose)\n",
    "* check is a matrix is Hermitian\n",
    "* find the eigenvalues and eigenvectors of a matrix\n",
    "\n",
    "Our example matrix is the $S_z$ operator:\n",
    "\n",
    "$$S_z \\doteq \\dfrac{\\hbar}{2}\\begin{bmatrix} 1 & 0 \\cr 0 & -1 \\end{bmatrix}$$\n",
    "\n",
    "Because `linalg` doesn't play nice with symbols, we will compute everything in units of $\\hbar/2$:\n",
    "\n",
    "$$\\dfrac{2}{\\hbar}S_z \\doteq \\begin{bmatrix} 1 & 0 \\cr 0 & -1 \\end{bmatrix}$$\n",
    "\n",
    "\n",
    "### 1.1 Investigating if a matrix is Hermitian\n",
    "We start by creating the matrix:"
   ]
  },
  {
   "cell_type": "code",
   "execution_count": 2,
   "metadata": {},
   "outputs": [
    {
     "name": "stdout",
     "output_type": "stream",
     "text": [
      "[[ 1  0]\n",
      " [ 0 -1]]\n"
     ]
    }
   ],
   "source": [
    "S_z = np.array([[1,0],\n",
    "                [0,-1]])\n",
    "print(S_z)"
   ]
  },
  {
   "cell_type": "markdown",
   "metadata": {},
   "source": [
    "We can determine the complex conjugate ($S_z^*$) of the by using the `.conj()` method (i.e, `S_z.conj()`). What is nice is that computing the adjoint is then simply using the transpose attribute `.T` on the complex conjugate (i.e., ` S_z.conj().T`) to find the adjoint ($S_z^{\\dagger}$). Notice that nothing changes because the $S_z$ operator is real and diagonal, so that $S_z = S_z^{*} = S_z^{\\dagger}$."
   ]
  },
  {
   "cell_type": "code",
   "execution_count": 3,
   "metadata": {},
   "outputs": [
    {
     "name": "stdout",
     "output_type": "stream",
     "text": [
      "complex conjugate of S_z:\n",
      " [[ 1  0]\n",
      " [ 0 -1]]\n",
      "complex conjugate, transpose of S_z:\n",
      " [[ 1  0]\n",
      " [ 0 -1]]\n"
     ]
    }
   ],
   "source": [
    "print('complex conjugate of S_z:\\n', S_z.conj())\n",
    "print('complex conjugate, transpose of S_z:\\n', S_z.conj().T)"
   ]
  },
  {
   "cell_type": "markdown",
   "metadata": {},
   "source": [
    "We can use these operations to check if the matrix is Hermitian. That is, if $S_z = S_z^{\\dagger}$. While this operation is clearly true for $S_z$, if you construct a matrix, you need to know that it is Hermitian because then it's eigenvalues are guaranteed to be real and, thus, it can represent some observaable. We can do this by computing:\n",
    "\n",
    "$$S_z - S_z^{\\dagger}$$\n",
    "\n",
    "which we expect to be the zero matrix."
   ]
  },
  {
   "cell_type": "code",
   "execution_count": 4,
   "metadata": {},
   "outputs": [
    {
     "name": "stdout",
     "output_type": "stream",
     "text": [
      "[[0 0]\n",
      " [0 0]]\n"
     ]
    }
   ],
   "source": [
    "print(S_z-S_z.conj().T)"
   ]
  },
  {
   "cell_type": "markdown",
   "metadata": {},
   "source": [
    "### 1.2 Using `.eig()` to find eigenvalues and eigenvectors\n",
    "\n",
    "The `linalg` library includes a method (`.eig()`) that will determine the eigenvalues and eigenvectors of a matrix that it is passed. A few things:\n",
    "\n",
    "1. It returns two variables: the first is a 1D array of the eigenvalues, and the second is 2D array of the eigenvectors.\n",
    "2. It will work with complex numbers (as we will see)\n",
    "3. It determines these eigenvalues and eigenvectors numerically, so they can be approximate.\n",
    "    * Regarding this last point, sometimes an eigenvalue or a component of an eigenvector will be zero, but `.eig()` will return a very small number (i.e., something*$10^{-16}$). This is machine precision (i.e., as close as the computer can get to numerically zero given the data type for the number).\n",
    "    \n",
    "We can call `eig()` from the `linalg` library and store the eigenvalues and eigenvectors:"
   ]
  },
  {
   "cell_type": "code",
   "execution_count": 5,
   "metadata": {},
   "outputs": [],
   "source": [
    "S_z_eigs, S_z_vecs = la.eig(S_z)"
   ]
  },
  {
   "cell_type": "markdown",
   "metadata": {},
   "source": [
    "As expected, we obtain two real eigenvalues: +1 and -1 (in units of $\\hbar/2$). We can store and print them."
   ]
  },
  {
   "cell_type": "code",
   "execution_count": 6,
   "metadata": {},
   "outputs": [
    {
     "name": "stdout",
     "output_type": "stream",
     "text": [
      "lambda0:\n",
      " 1.0\n",
      "lambda1:\n",
      " -1.0\n"
     ]
    }
   ],
   "source": [
    "lambda0, lambda1 = S_z_eigs[0], S_z_eigs[1]\n",
    "print('lambda0:\\n',lambda0)\n",
    "print('lambda1:\\n',lambda1)"
   ]
  },
  {
   "cell_type": "markdown",
   "metadata": {},
   "source": [
    "We also obtain two eigenvectors that have two components. One of the curious things about `.eig()` method is that the columns (NOT THE ROWS) of the matrix that are returned correspond to the eigenvectors. This is not as obvious for this example, but it becomes obvious for other matrices. So we need to store those columns and reshape them to use them for calculations."
   ]
  },
  {
   "cell_type": "code",
   "execution_count": 7,
   "metadata": {},
   "outputs": [
    {
     "name": "stdout",
     "output_type": "stream",
     "text": [
      "v0:\n",
      " [[1.]\n",
      " [0.]]\n",
      "v1:\n",
      " [[0.]\n",
      " [1.]]\n"
     ]
    }
   ],
   "source": [
    "v0, v1 = S_z_vecs[:,0].reshape(2,1), S_z_vecs[:,1].reshape(2,1)\n",
    "print('v0:\\n', v0)\n",
    "print('v1:\\n', v1)"
   ]
  },
  {
   "cell_type": "markdown",
   "metadata": {},
   "source": [
    "### 1.3 Investigating $S_y$\n",
    "\n",
    "In the example above, we focused on $S_z$ to illustrate the process for determining the eigenvalues and eigenvectors. You will repeat this process for $S_y$ where the matrix is now complex.\n",
    "\n",
    "$$S_y \\doteq \\dfrac{\\hbar}{2} \\begin{bmatrix}0 & -i \\cr i & 0 \\end{bmatrix}$$\n",
    "\n",
    "Or in units of $\\hbar/2$,\n",
    "\n",
    "$$\\dfrac{2}{\\hbar} S_y \\doteq \\begin{bmatrix}0 & -i \\cr i & 0 \\end{bmatrix}$$\n",
    "\n",
    "Recall we can construct complex numbers using `j`. Below we have constructed the $S_y$ matrix in units of $\\hbar/2$."
   ]
  },
  {
   "cell_type": "code",
   "execution_count": 8,
   "metadata": {},
   "outputs": [
    {
     "name": "stdout",
     "output_type": "stream",
     "text": [
      "[[ 0.+0.j -0.-1.j]\n",
      " [ 0.+1.j  0.+0.j]]\n"
     ]
    }
   ],
   "source": [
    "S_y = np.array([[0,-1j],\n",
    "                [1j,0]])\n",
    "print(S_y)"
   ]
  },
  {
   "cell_type": "markdown",
   "metadata": {},
   "source": [
    "#### Check that $S_y$ is Hermitian\n",
    "\n",
    "<font size=8 color=\"#009600\">&#9998;</font> Do This.\n",
    "\n",
    "* Compute $S_y^*$ and $S_y^{\\dagger}$.\n",
    "* Show that $S_y$ is Hermitian."
   ]
  },
  {
   "cell_type": "code",
   "execution_count": 9,
   "metadata": {},
   "outputs": [],
   "source": [
    "## your code here"
   ]
  },
  {
   "cell_type": "markdown",
   "metadata": {},
   "source": [
    "#### Determine the eigenvalues and eigenvectors of $S_y$\n",
    "\n",
    "<font size=8 color=\"#009600\">&#9998;</font> Do This.\n",
    "\n",
    "* Determine the eigenvalues of $S_y$. What do you notice about them? What does Python produce (a real or complex number)?\n",
    "    * Do you expect the eigenvalue to be real or not? If it is meant to be real, how can you force Python to print (or store) the real part only?\n",
    "* Determine the eigenvectors. How do these compare to what you have seen before?"
   ]
  },
  {
   "cell_type": "code",
   "execution_count": 11,
   "metadata": {},
   "outputs": [],
   "source": [
    "## your code here"
   ]
  },
  {
   "cell_type": "markdown",
   "metadata": {},
   "source": [
    "## 2. Automate the process\n",
    "\n",
    "Now that you have worked with the `linalg` library a bit, you will write a function (`ComputeEig`) that will take a Hermitian matrix and return its eigenvalues and eigenvectors. In doing this, you will need to check that the matrix that is passed is both square and Hermitian before it performs operations. The function should return the real eigenvalues and the eigenvectors if the matrix is both square and Hermitian. If either is not true, the function should through an error and indicate the problem.\n",
    "\n",
    "All that `ComputeEig` should take as a variable is the matrix you intend to use.\n",
    "\n",
    "`def ComputeEig(M):`\n",
    "\n",
    "We have given you some test matrices to check your function."
   ]
  },
  {
   "cell_type": "code",
   "execution_count": 13,
   "metadata": {},
   "outputs": [],
   "source": [
    "### your code here"
   ]
  },
  {
   "cell_type": "markdown",
   "metadata": {},
   "source": [
    "### 2.1 Test case 1\n",
    "\n",
    "Should fail as it is not square.\n",
    "\n",
    "$a = \\begin{bmatrix} 1 \\cr 1 \\end{bmatrix}$"
   ]
  },
  {
   "cell_type": "code",
   "execution_count": 15,
   "metadata": {},
   "outputs": [
    {
     "name": "stdout",
     "output_type": "stream",
     "text": [
      "a:\n",
      " [[1]\n",
      " [1]]\n"
     ]
    }
   ],
   "source": [
    "a = np.array([[1],[1]])\n",
    "print('a:\\n', a)\n",
    "## ComputeEig(a)"
   ]
  },
  {
   "cell_type": "markdown",
   "metadata": {},
   "source": [
    "### 2.2 Test case 2\n",
    "\n",
    "Should pass as it is Hermitian. We also should expect $\\lambda$'s equal to 1, 3/2, and 5/2.\n",
    "\n",
    "$H = \\begin{bmatrix} 2 & 0 & 0.5 \\cr 0 & 1 & 0 \\cr 0.5 & 0 & 2 \\end{bmatrix}$"
   ]
  },
  {
   "cell_type": "code",
   "execution_count": 16,
   "metadata": {},
   "outputs": [
    {
     "name": "stdout",
     "output_type": "stream",
     "text": [
      "H:\n",
      " [[2.  0.  0.5]\n",
      " [0.  1.  0. ]\n",
      " [0.5 0.  2. ]]\n"
     ]
    }
   ],
   "source": [
    "H = np.array([[2,0,0.5],\n",
    "              [0,1,0],\n",
    "              [0.5,0,2]])\n",
    "print('H:\\n', H)\n",
    "##ComputeEig(H)"
   ]
  },
  {
   "cell_type": "markdown",
   "metadata": {},
   "source": [
    "### 2.3 Test case 3\n",
    "\n",
    "Should fail as it is not Hermitian.\n",
    "\n",
    "$T = \\begin{bmatrix} 2 & 1 & 10 \\cr 0 & 1 & 1 \\cr 0 & 0 & 2 \\end{bmatrix}$"
   ]
  },
  {
   "cell_type": "code",
   "execution_count": 17,
   "metadata": {},
   "outputs": [
    {
     "name": "stdout",
     "output_type": "stream",
     "text": [
      "T:\n",
      " [[ 2  1 10]\n",
      " [ 0  1  1]\n",
      " [ 0  0  2]]\n"
     ]
    }
   ],
   "source": [
    "T = np.array([[2,1,10],\n",
    "              [0,1,1],\n",
    "              [0,0,2]])\n",
    "print('T:\\n', T)\n",
    "## ComputeEig(T)"
   ]
  },
  {
   "cell_type": "markdown",
   "metadata": {},
   "source": [
    "### 2.4 Test case 4\n",
    "\n",
    "Should pass as it is Hermitian. We also should expect $\\lambda$'s equal to 1, 3/2, and 5/2.\n",
    "\n",
    "$C = \\begin{bmatrix} 2 & 0 & 0.5i \\cr 0 & 1 & 0 \\cr -0.5i & 0 & 2 \\end{bmatrix}$"
   ]
  },
  {
   "cell_type": "code",
   "execution_count": 18,
   "metadata": {},
   "outputs": [
    {
     "name": "stdout",
     "output_type": "stream",
     "text": [
      "C:\n",
      " [[ 2.+0.j   0.+0.j   0.+0.5j]\n",
      " [ 0.+0.j   1.+0.j   0.+0.j ]\n",
      " [-0.-0.5j  0.+0.j   2.+0.j ]]\n"
     ]
    }
   ],
   "source": [
    "C = np.array([[2,0,0.5j],\n",
    "              [0,1,0],\n",
    "              [-0.5j,0,2]]) \n",
    "\n",
    "print('C:\\n', C)\n",
    "## ComputeEig(C)"
   ]
  },
  {
   "cell_type": "markdown",
   "metadata": {},
   "source": [
    "### 2.5 Create your own 4 by 4 matrix\n",
    "\n",
    "<font size=8 color=\"#009600\">&#9998;</font> Do This.\n",
    "\n",
    "* Create a 4 by 4 Hermitian matrix. It should have complex values.\n",
    "* Run `ComputeEig` on your matrix and determine its eigenvalues and eigenvectors"
   ]
  },
  {
   "cell_type": "code",
   "execution_count": 19,
   "metadata": {},
   "outputs": [],
   "source": [
    "## your code here"
   ]
  },
  {
   "cell_type": "code",
   "execution_count": null,
   "metadata": {},
   "outputs": [],
   "source": []
  }
 ],
 "metadata": {
  "kernelspec": {
   "display_name": "Python 3",
   "language": "python",
   "name": "python3"
  },
  "language_info": {
   "codemirror_mode": {
    "name": "ipython",
    "version": 3
   },
   "file_extension": ".py",
   "mimetype": "text/x-python",
   "name": "python",
   "nbconvert_exporter": "python",
   "pygments_lexer": "ipython3",
   "version": "3.8.3"
  }
 },
 "nbformat": 4,
 "nbformat_minor": 4
}
