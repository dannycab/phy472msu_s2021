{
 "cells": [
  {
   "cell_type": "markdown",
   "metadata": {},
   "source": [
    "# Introduction to Using Python for Quantum Mechanics Problems\n",
    "\n",
    "Python is a powerful and flexible programming language that can be used to solve many kinds of scientific problems. The wide variety of modules and libraries that are available for Python have specific uses for particular kinds of problems. In this notebook, you will learn to use the `numpy` module and the asociated `linalg` library to do common linear algebra manipulations that readily appear in quantum mechanics problems. In so doing, you will solve homework problems 1 and 2 again, but this time using Python. The idea is that while these homework problems are analytically tractable and not terrible cumbersome, other problems you might encounter will not be and using something like `numpy.linalg` will be very useful."
   ]
  },
  {
   "cell_type": "markdown",
   "metadata": {},
   "source": [
    "## Introduction\n",
    "\n",
    "We begin by importing `numpy` and the linear algebra library (`linalg`) that will make certain calculations easier. The design of this notebook is such that you are shown how to do a certain kind of calculation and then must do the same kind of calculation for the problem you are working."
   ]
  },
  {
   "cell_type": "code",
   "execution_count": 1,
   "metadata": {},
   "outputs": [],
   "source": [
    "import numpy as np\n",
    "import numpy.linalg as la"
   ]
  },
  {
   "cell_type": "markdown",
   "metadata": {},
   "source": [
    "### Create vectors and take their dot product\n",
    "\n",
    "The `numpy` module allows us to create numpy arrays which can be maniuplated like vectors and matrices. As you know there's two kinds of vectors, row and column vectors. Making each of these requires a slightly different syntax as you see below."
   ]
  },
  {
   "cell_type": "code",
   "execution_count": 16,
   "metadata": {},
   "outputs": [
    {
     "name": "stdout",
     "output_type": "stream",
     "text": [
      "rowVec:\n",
      " [[2 3]]\n",
      "rowVec shape:\n",
      " (1, 2)\n",
      "colVec:\n",
      " [[4]\n",
      " [5]]\n",
      "colVec shape:\n",
      " (2, 1)\n"
     ]
    }
   ],
   "source": [
    "## Create a row and column vector\n",
    "rowVec = np.array([[2,3]])\n",
    "colVec = np.array([[4],[5]])\n",
    "\n",
    "## Print row vector and shape\n",
    "print('rowVec:\\n', rowVec)\n",
    "print('rowVec shape:\\n', rowVec.shape)\n",
    "\n",
    "## Print column vector and shape\n",
    "print('colVec:\\n', colVec)\n",
    "print('colVec shape:\\n', colVec.shape)"
   ]
  },
  {
   "cell_type": "markdown",
   "metadata": {},
   "source": [
    "We can take the dot product of these two vectors by using `np.vdot()` and passing the two vectors to the method. [Documentation](https://numpy.org/doc/stable/reference/generated/numpy.vdot.html#numpy.vdot)."
   ]
  },
  {
   "cell_type": "code",
   "execution_count": 29,
   "metadata": {},
   "outputs": [
    {
     "name": "stdout",
     "output_type": "stream",
     "text": [
      "23\n"
     ]
    }
   ],
   "source": [
    "print(np.vdot(rowVec,colVec))"
   ]
  },
  {
   "cell_type": "markdown",
   "metadata": {},
   "source": [
    "This operation can also be down with the `@` operator and will produce the same result as an array."
   ]
  },
  {
   "cell_type": "code",
   "execution_count": 30,
   "metadata": {},
   "outputs": [
    {
     "data": {
      "text/plain": [
       "array([[23]])"
      ]
     },
     "execution_count": 30,
     "metadata": {},
     "output_type": "execute_result"
    }
   ],
   "source": [
    "rowVec @ colVec"
   ]
  },
  {
   "cell_type": "markdown",
   "metadata": {},
   "source": [
    "One useful method for numpy arrays is the \"transpose\" method which swaps rows and columns creating the transpose of the vector (or matrix). It can be called quite simply using '.T'. As you will see, this method is very useful when computing expectation values and probabilities."
   ]
  },
  {
   "cell_type": "code",
   "execution_count": 23,
   "metadata": {},
   "outputs": [
    {
     "name": "stdout",
     "output_type": "stream",
     "text": [
      "rowVec:\n",
      " [[2 3]]\n",
      "rowVec shape:\n",
      " (1, 2)\n",
      "rowVec.T:\n",
      " [[2]\n",
      " [3]]\n",
      "rowVec.T shape:\n",
      " (2, 1)\n"
     ]
    }
   ],
   "source": [
    "## Print row vector and shape\n",
    "print('rowVec:\\n', rowVec)\n",
    "print('rowVec shape:\\n', rowVec.shape)\n",
    "\n",
    "## Print transpose of row vector and shape\n",
    "print('rowVec.T:\\n',rowVec.T)\n",
    "print('rowVec.T shape:\\n', rowVec.T.shape)"
   ]
  },
  {
   "cell_type": "markdown",
   "metadata": {},
   "source": [
    "### Create state vectors and show orthonormality\n",
    "\n",
    "<font size=8 color=\"#009600\">&#9998;</font> Do This.\n",
    "\n",
    "* Create two numpy arrays that represent the spin up and spin down vectors in the $S_z$ basis. Recall that we typically use column vectors for this representation. \n",
    "* Compute the approrpiate dot products to demonstrate that this basis is orthonormal."
   ]
  },
  {
   "cell_type": "code",
   "execution_count": null,
   "metadata": {},
   "outputs": [],
   "source": [
    "## Your code here"
   ]
  },
  {
   "cell_type": "code",
   "execution_count": null,
   "metadata": {},
   "outputs": [],
   "source": []
  }
 ],
 "metadata": {
  "kernelspec": {
   "display_name": "Python 3",
   "language": "python",
   "name": "python3"
  },
  "language_info": {
   "codemirror_mode": {
    "name": "ipython",
    "version": 3
   },
   "file_extension": ".py",
   "mimetype": "text/x-python",
   "name": "python",
   "nbconvert_exporter": "python",
   "pygments_lexer": "ipython3",
   "version": "3.8.3"
  }
 },
 "nbformat": 4,
 "nbformat_minor": 4
}
