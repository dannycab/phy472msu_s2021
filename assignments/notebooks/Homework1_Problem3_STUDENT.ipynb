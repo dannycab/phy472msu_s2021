{
 "cells": [
  {
   "cell_type": "markdown",
   "metadata": {},
   "source": [
    "# Introduction to Using Python for Quantum Mechanics Problems\n",
    "\n",
    "Python is a powerful and flexible programming language that can be used to solve many kinds of scientific problems. The wide variety of modules and libraries that are available for Python have specific uses for particular kinds of problems. In this notebook, you will learn to use the `numpy` module and the asociated `linalg` library to do common linear algebra manipulations that readily appear in quantum mechanics problems. In so doing, you will solve homework problems 1 and 2 again, but this time using Python. The idea is that while these homework problems are analytically tractable and not terrible cumbersome, other problems you might encounter will not be and using something like `numpy.linalg` will be very useful."
   ]
  },
  {
   "cell_type": "markdown",
   "metadata": {},
   "source": [
    "# Introduction\n",
    "\n",
    "We begin by importing `numpy` and the linear algebra library (`linalg`) that will make certain calculations easier. The design of this notebook is such that you are shown how to do a certain kind of calculation and then must do the same kind of calculation for the problem you are working."
   ]
  },
  {
   "cell_type": "code",
   "execution_count": 1,
   "metadata": {},
   "outputs": [],
   "source": [
    "import numpy as np\n",
    "import numpy.linalg as la\n",
    "import math"
   ]
  },
  {
   "cell_type": "markdown",
   "metadata": {},
   "source": [
    "## Create vectors and take their dot product\n",
    "\n",
    "The `numpy` module allows us to create numpy arrays which can be maniuplated like vectors and matrices. As you know there's two kinds of vectors, row and column vectors. Making each of these requires a slightly different syntax as you see below."
   ]
  },
  {
   "cell_type": "code",
   "execution_count": 2,
   "metadata": {},
   "outputs": [
    {
     "name": "stdout",
     "output_type": "stream",
     "text": [
      "rowVec:\n",
      " [[2 3]]\n",
      "rowVec shape:\n",
      " (1, 2)\n",
      "colVec:\n",
      " [[4]\n",
      " [5]]\n",
      "colVec shape:\n",
      " (2, 1)\n"
     ]
    }
   ],
   "source": [
    "## Create a row and column vector\n",
    "rowVec = np.array([[2,3]])\n",
    "colVec = np.array([[4],[5]])\n",
    "\n",
    "## Print row vector and shape\n",
    "print('rowVec:\\n', rowVec)\n",
    "print('rowVec shape:\\n', rowVec.shape)\n",
    "\n",
    "## Print column vector and shape\n",
    "print('colVec:\\n', colVec)\n",
    "print('colVec shape:\\n', colVec.shape)"
   ]
  },
  {
   "cell_type": "markdown",
   "metadata": {},
   "source": [
    "We can take the dot product of these two vectors by using `np.vdot()` and passing the two vectors to the method. [Documentation](https://numpy.org/doc/stable/reference/generated/numpy.vdot.html#numpy.vdot)."
   ]
  },
  {
   "cell_type": "code",
   "execution_count": 3,
   "metadata": {},
   "outputs": [
    {
     "name": "stdout",
     "output_type": "stream",
     "text": [
      "23\n"
     ]
    }
   ],
   "source": [
    "print(np.vdot(rowVec,colVec))"
   ]
  },
  {
   "cell_type": "markdown",
   "metadata": {},
   "source": [
    "This operation can also be down with the `@` operator and will produce the same result as an array."
   ]
  },
  {
   "cell_type": "code",
   "execution_count": 4,
   "metadata": {},
   "outputs": [
    {
     "data": {
      "text/plain": [
       "array([[23]])"
      ]
     },
     "execution_count": 4,
     "metadata": {},
     "output_type": "execute_result"
    }
   ],
   "source": [
    "rowVec @ colVec"
   ]
  },
  {
   "cell_type": "markdown",
   "metadata": {},
   "source": [
    "One useful method for numpy arrays is the \"transpose\" method which swaps rows and columns creating the transpose of the vector (or matrix). It can be called quite simply using '.T'. As you will see, this method is very useful when computing expectation values and probabilities."
   ]
  },
  {
   "cell_type": "code",
   "execution_count": 5,
   "metadata": {},
   "outputs": [
    {
     "name": "stdout",
     "output_type": "stream",
     "text": [
      "rowVec:\n",
      " [[2 3]]\n",
      "rowVec shape:\n",
      " (1, 2)\n",
      "rowVec.T:\n",
      " [[2]\n",
      " [3]]\n",
      "rowVec.T shape:\n",
      " (2, 1)\n"
     ]
    }
   ],
   "source": [
    "## Print row vector and shape\n",
    "print('rowVec:\\n', rowVec)\n",
    "print('rowVec shape:\\n', rowVec.shape)\n",
    "\n",
    "## Print transpose of row vector and shape\n",
    "print('rowVec.T:\\n',rowVec.T)\n",
    "print('rowVec.T shape:\\n', rowVec.T.shape)"
   ]
  },
  {
   "cell_type": "markdown",
   "metadata": {},
   "source": [
    "## Create state vectors and show orthonormality\n",
    "\n",
    "<font size=8 color=\"#009600\">&#9998;</font> Do This.\n",
    "\n",
    "* Create two numpy arrays that represent the spin up and spin down vectors in the $S_z$ basis. Recall that we typically use column vectors for this representation. \n",
    "* Compute the approrpiate dot products to demonstrate that this basis is orthonormal."
   ]
  },
  {
   "cell_type": "code",
   "execution_count": 6,
   "metadata": {},
   "outputs": [],
   "source": [
    "## Your code here"
   ]
  },
  {
   "cell_type": "markdown",
   "metadata": {},
   "source": [
    "# Create matrices and perform matrix multiplication\n",
    "\n",
    "We can also have `numpy` create matrices and perform matrix multiplication. For example, if we wanted to compute the product of a 2 by 2 martix and a 2 by 1 vector, we would need to first create both arrays and then multiply them with the `@` operator.\n",
    "\n",
    "$$\\vec{b} = \\mathbf{M}\\:\\vec{a}$$\n",
    "\n",
    "Let's see how that works with `numpy`."
   ]
  },
  {
   "cell_type": "code",
   "execution_count": 8,
   "metadata": {},
   "outputs": [
    {
     "name": "stdout",
     "output_type": "stream",
     "text": [
      "a:\n",
      " [[2]\n",
      " [1]]\n",
      "M:\n",
      " [[4 3]\n",
      " [0 1]]\n"
     ]
    }
   ],
   "source": [
    "## Create a 2 by 1 column vector\n",
    "a = np.array([[2],[1]])\n",
    "print('a:\\n', a)\n",
    "\n",
    "## Create a 2 by 2 matrix\n",
    "M = np.array([[4,3],[0,1]])\n",
    "print('M:\\n', M)"
   ]
  },
  {
   "cell_type": "code",
   "execution_count": 9,
   "metadata": {},
   "outputs": [
    {
     "name": "stdout",
     "output_type": "stream",
     "text": [
      "b:\n",
      " [[11]\n",
      " [ 1]]\n"
     ]
    }
   ],
   "source": [
    "## Multiply M and a to make a new 2 by 1 vector b\n",
    "\n",
    "b = M @ a\n",
    "print('b:\\n', b)"
   ]
  },
  {
   "cell_type": "markdown",
   "metadata": {},
   "source": [
    "## Create a spin matrix and investigate eigenstates\n",
    "\n",
    "<font size=8 color=\"#009600\">&#9998;</font> Do This.\n",
    "\n",
    "Earlier you created two vectors that represent the spin up and down state vectors in the $S_z$ basis. These vectors are eigenstates of the $S_z$ operator, which means if the $S_z$ operator is used on them, then you should get the state vector back along multiplied by its eigenvalue. The $S_z$ operator as a matrix is given by:\n",
    "\n",
    "$$S_z \\doteq \\dfrac{\\hbar}{2}\\begin{bmatrix} 1 & 0 \\\\ 0 & -1 \\end{bmatrix}$$\n",
    "\n",
    "The $\\hbar$ doesn't play nicely with Python, so we will instead use the operator scaled by $\\hbar$,\n",
    "\n",
    "$$\\dfrac{S_z}{\\hbar} \\doteq \\dfrac{1}{2}\\begin{bmatrix} 1 & 0 \\\\ 0 & -1 \\end{bmatrix}$$\n",
    "\n",
    "* Create this operator\n",
    "* Multiply this operator times the eigenstates to show that you return $\\dfrac{1}{2}|+\\rangle$ and $\\dfrac{-1}{2}|-\\rangle$. *We can always multiply our answer by $\\hbar$ to get the units right later.*"
   ]
  },
  {
   "cell_type": "code",
   "execution_count": 10,
   "metadata": {},
   "outputs": [],
   "source": [
    "### your code here"
   ]
  },
  {
   "cell_type": "markdown",
   "metadata": {},
   "source": [
    "# Complex numbers with Python\n",
    "\n",
    "Everything we have done so far has used real numbers, but one of the major parts of quantum mechanics is the use of complex numbers in both state vectors and operators. So we will need to represent complex numbers in Python and now how to manipulate them.\n",
    "\n",
    "Complex numbers are constructed using `j` or `complex()` and can be used in numpy arrays quite easily. Let's construct the number\n",
    "\n",
    "$$z = 1 + 2i$$\n",
    "\n",
    "and find it's real part, imaginary part, magnitude, phase, and complex conmjugate. These are all common operations with complex numbers that we will also use in quantum mechanics."
   ]
  },
  {
   "cell_type": "code",
   "execution_count": 12,
   "metadata": {},
   "outputs": [
    {
     "name": "stdout",
     "output_type": "stream",
     "text": [
      "z: (1+2j)\n",
      "z2: (1+2j)\n"
     ]
    }
   ],
   "source": [
    "## Create z; notice there's no space or operator between 2 and j\n",
    "z = 1 + 2j \n",
    "print('z:', z)\n",
    "\n",
    "## Similarly we can use complex() - this is often more useful\n",
    "z2 = np.complex(1,2)\n",
    "print('z2:', z2)"
   ]
  },
  {
   "cell_type": "code",
   "execution_count": 13,
   "metadata": {},
   "outputs": [
    {
     "name": "stdout",
     "output_type": "stream",
     "text": [
      "Re(z): 1.0\n",
      "Im(z): 2.0\n",
      "|z|: 2.23606797749979\n",
      "Phi (rads): 1.1071487177940904\n",
      "Phi (degs): 63.43494882292201\n",
      "z*: (1-2j)\n"
     ]
    }
   ],
   "source": [
    "## Real part of z\n",
    "print('Re(z):', z.real)\n",
    "\n",
    "## Imaginary part of z\n",
    "print('Im(z):', z.imag)\n",
    "\n",
    "## Magnitude of z\n",
    "print('|z|:', np.abs(z))\n",
    "\n",
    "## Phase of z\n",
    "print('Phi (rads):', math.atan2(z.imag, z.real))\n",
    "print('Phi (degs):', math.atan2(z.imag, z.real)/math.pi*180)\n",
    "\n",
    "## Complex conjugate of z\n",
    "print('z*:', np.conj(z))"
   ]
  },
  {
   "cell_type": "markdown",
   "metadata": {},
   "source": [
    "## Create spin matrices\n",
    "<font size=8 color=\"#009600\">&#9998;</font> Do This.\n",
    "\n",
    "Now, that you have seen how we can create imaginary numbers we are ready to continue with some quantum mechanics calculations. Using what you have learned about matrices and complex numbers in Python:\n",
    "\n",
    "* Create the $S_x$ and $S_y$ operators. Remember you can divide out $\\hbar$.\n",
    "\n",
    "$$\\dfrac{S_x}{\\hbar} \\doteq \\dfrac{1}{2}\\begin{bmatrix} 0 & 1 \\\\ 1 & 0 \\end{bmatrix}$$\n",
    "\n",
    "$$\\dfrac{S_y}{\\hbar} \\doteq \\dfrac{1}{2}\\begin{bmatrix} 0 & -i \\\\ i & 0 \\end{bmatrix}$$"
   ]
  },
  {
   "cell_type": "code",
   "execution_count": 14,
   "metadata": {},
   "outputs": [],
   "source": [
    "## your code here"
   ]
  },
  {
   "cell_type": "markdown",
   "metadata": {},
   "source": [
    "## Compute expectation values\n",
    "\n",
    "<font size=8 color=\"#009600\">&#9998;</font> Do This.\n",
    "\n",
    "Now that you have represented $S_x$, $S_y$, and $S_z$, we can compute the expectation values for our spin up and down state vectors. These are not terribly exciting, but they will help us with the process. Remember, we are trying to compute:\n",
    "\n",
    "$$\\langle S_z \\rangle = \\langle \\psi | S_z | \\psi \\rangle$$\n",
    "\n",
    "So we will need to compute the complex conjugate transpose for $\\langle \\psi |$ before peforming our calculation. \n",
    "* Take $\\langle S_z \\rangle$ for the spin up vector as the example (we should get 0.5 because it is an eigenstate of $S_z$) and compute $\\langle S_x \\rangle$ and $\\langle S_y \\rangle$ yourself. \n",
    "* What do expect to get for $\\langle S_x \\rangle$ and $\\langle S_y \\rangle$ for an eigenstate of $S_z$?"
   ]
  },
  {
   "cell_type": "code",
   "execution_count": 16,
   "metadata": {},
   "outputs": [
    {
     "name": "stdout",
     "output_type": "stream",
     "text": [
      "expectation value:\n",
      " [[0.5]]\n"
     ]
    }
   ],
   "source": [
    "SZ = 0.5*np.array([[1,0],[0,-1]])\n",
    "spinUp = np.array([[1],[0]])\n",
    "\n",
    "print('expectation value:\\n', np.conj(spinUp.T) @ SZ @ spinUp)"
   ]
  },
  {
   "cell_type": "code",
   "execution_count": 17,
   "metadata": {},
   "outputs": [],
   "source": [
    "## your code here"
   ]
  },
  {
   "cell_type": "markdown",
   "metadata": {},
   "source": [
    "# Working with a superpositon state\n",
    "\n",
    "Now that you have worked with most of the linear algebra operations that you need for time-independent operations on spin angular momentum states, let's work with a superposition state. Consider a particle in a state constructed in the $S_z$ basis:\n",
    "\n",
    "$$|\\psi\\rangle = \\dfrac{1}{\\sqrt{8}}|+\\rangle + i\\sqrt{\\frac{7}{8}}|-\\rangle$$\n",
    "\n",
    "<font size=8 color=\"#009600\">&#9998;</font> Do This.\n",
    "* Construct this state vector using a linear algebra representation. Hint: Use``complex()``.\n",
    "* Show that this state vector is normalized. If it isn't, normalize it.\n",
    "* Compute the probability of observing the particle in the $S_z$ spin up and down states. In which state is the particle more likely to be observed? How does that make sense with the coefficients for the state?"
   ]
  },
  {
   "cell_type": "code",
   "execution_count": 19,
   "metadata": {},
   "outputs": [],
   "source": [
    "### your code here"
   ]
  },
  {
   "cell_type": "markdown",
   "metadata": {},
   "source": [
    "## Computing Expectation Values\n",
    "\n",
    "<font size=8 color=\"#009600\">&#9998;</font> Do This.\n",
    "* Compute expectation value for $S_z$. How does the sign of this expectation value make sense to you?\n",
    "* Compute expectation value for $S_x$ and $S_y$. Are you able to say anything about the probabilities of observing the particle in $S_x$ and $S_y$ spin states?\n",
    "\n",
    "*It's ok to use $\\dfrac{S_i}{\\hbar}$ as we have done before.*"
   ]
  },
  {
   "cell_type": "code",
   "execution_count": 21,
   "metadata": {},
   "outputs": [],
   "source": [
    "### your code here"
   ]
  },
  {
   "cell_type": "markdown",
   "metadata": {},
   "source": [
    "## Computing probabilities of observations\n",
    "\n",
    "Now that you have computed the expectation values for $S_x$ and $S_y$, let's check the results against the probabilities of finding the particle in eigenstates of those operators. That is, we want to compute things like:\n",
    "\n",
    "$$P_{+x} = |_x\\langle + | \\psi \\rangle|^2$$\n",
    "\n",
    "Remember that:\n",
    "$$|+\\rangle_x = \\dfrac{1}{\\sqrt{2}}\\left(|+\\rangle + |-\\rangle\\right)$$\n",
    "$$|-\\rangle_x = \\dfrac{1}{\\sqrt{2}}\\left(|+\\rangle - |-\\rangle\\right)$$\n",
    "$$|+\\rangle_y = \\dfrac{1}{\\sqrt{2}}\\left(|+\\rangle + i|-\\rangle\\right)$$\n",
    "$$|-\\rangle_y = \\dfrac{1}{\\sqrt{2}}\\left(|+\\rangle - i|-\\rangle\\right)$$\n",
    "\n",
    "<font size=8 color=\"#009600\">&#9998;</font> Do This.\n",
    "* Compute the probability of finding the particle in each of the above eigenstates.\n",
    "* How do your results fit with the expectation values you computed in 4.2?"
   ]
  },
  {
   "cell_type": "code",
   "execution_count": 23,
   "metadata": {},
   "outputs": [],
   "source": [
    "## your code here"
   ]
  },
  {
   "cell_type": "code",
   "execution_count": null,
   "metadata": {},
   "outputs": [],
   "source": []
  }
 ],
 "metadata": {
  "kernelspec": {
   "display_name": "Python 3",
   "language": "python",
   "name": "python3"
  },
  "language_info": {
   "codemirror_mode": {
    "name": "ipython",
    "version": 3
   },
   "file_extension": ".py",
   "mimetype": "text/x-python",
   "name": "python",
   "nbconvert_exporter": "python",
   "pygments_lexer": "ipython3",
   "version": "3.8.3"
  }
 },
 "nbformat": 4,
 "nbformat_minor": 4
}
